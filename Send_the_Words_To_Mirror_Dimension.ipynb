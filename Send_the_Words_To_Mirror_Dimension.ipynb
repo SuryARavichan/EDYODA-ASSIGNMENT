{
  "nbformat": 4,
  "nbformat_minor": 0,
  "metadata": {
    "colab": {
      "provenance": [],
      "authorship_tag": "ABX9TyNpIhyIOQFevmTFARaap243",
      "include_colab_link": true
    },
    "kernelspec": {
      "name": "python3",
      "display_name": "Python 3"
    },
    "language_info": {
      "name": "python"
    }
  },
  "cells": [
    {
      "cell_type": "markdown",
      "metadata": {
        "id": "view-in-github",
        "colab_type": "text"
      },
      "source": [
        "<a href=\"https://colab.research.google.com/github/SuryARavichan/EDYODA-ASSIGNMENT/blob/main/Send_the_Words_To_Mirror_Dimension.ipynb\" target=\"_parent\"><img src=\"https://colab.research.google.com/assets/colab-badge.svg\" alt=\"Open In Colab\"/></a>"
      ]
    },
    {
      "cell_type": "markdown",
      "source": [
        "QUESTION 2:\n",
        "\n",
        "\n",
        "Write a Python program that accepts a word from the user and reverse it.\n",
        "\n",
        "\n",
        "\n",
        "Sample Test Case\n",
        "\n",
        "\n",
        "\n",
        "Input : Edyoda\n",
        "\n",
        "output: adoydE\n",
        "\n",
        "\n",
        "\n",
        "For loops or while loops must be used: 15 Marks\n",
        "\n",
        "Must Take Input from user: 5 Marks\n",
        "\n",
        "Must Print the reverse of the word : 10 Marks"
      ],
      "metadata": {
        "id": "hgs1zNIe7bA6"
      }
    },
    {
      "cell_type": "code",
      "source": [
        "str_rev=str(input('Input: '))\n",
        "rev_string=''\n",
        "count=len(str_rev)\n",
        "while count>0:\n",
        "  rev_string+=str_rev[count-1]\n",
        "  count=count-1\n",
        "print('output: ',rev_string)"
      ],
      "metadata": {
        "colab": {
          "base_uri": "https://localhost:8080/"
        },
        "id": "SK96OreZ7dho",
        "outputId": "ca7aa8c6-3bd6-4d51-fdb4-d6e2dae19a46"
      },
      "execution_count": 3,
      "outputs": [
        {
          "output_type": "stream",
          "name": "stdout",
          "text": [
            "Input: Edyoda\n",
            "output:  adoydE\n"
          ]
        }
      ]
    }
  ]
}