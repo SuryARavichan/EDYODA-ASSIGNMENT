{
  "nbformat": 4,
  "nbformat_minor": 0,
  "metadata": {
    "colab": {
      "provenance": [],
      "authorship_tag": "ABX9TyPn3lwCJ7ll3GCHQ14BpHrS",
      "include_colab_link": true
    },
    "kernelspec": {
      "name": "python3",
      "display_name": "Python 3"
    },
    "language_info": {
      "name": "python"
    }
  },
  "cells": [
    {
      "cell_type": "markdown",
      "metadata": {
        "id": "view-in-github",
        "colab_type": "text"
      },
      "source": [
        "<a href=\"https://colab.research.google.com/github/SuryARavichan/EDYODA-ASSIGNMENT/blob/main/Lets_Play_With_Fibonacci.ipynb\" target=\"_parent\"><img src=\"https://colab.research.google.com/assets/colab-badge.svg\" alt=\"Open In Colab\"/></a>"
      ]
    },
    {
      "cell_type": "markdown",
      "source": [
        "\n",
        "QUESTION 1:\n",
        "\n",
        "\n",
        "Write a Python program to get the Fibonacci series between 0 to 50\n",
        "\n",
        "\n",
        "\n",
        "Note : The Fibonacci Sequence is the series of numbers :\n",
        "\n",
        "0, 1, 1, 2, 3, 5, 8, 13, 21, ....\n",
        "\n",
        "Every next number is found by adding up the two numbers before it.\n",
        "\n",
        "Expected Output : 0 1 1 2 3 5 8 13 21 34\n",
        "\n",
        "\n",
        "\n",
        "\n",
        "\n",
        "For loop or while loop must be used : 15\n",
        "\n",
        "Must Take Input from user : 5\n",
        "\n",
        "Must print Fibonacci Series : 10"
      ],
      "metadata": {
        "id": "_xQr_tU02UkT"
      }
    },
    {
      "cell_type": "code",
      "source": [
        "NU_TERMS = int(input('ENTER THE NUMBER OF TERMS FOR FIBONACCI SEQUENCE OF SERIES : '))\n",
        "\n",
        "fibonacci_Series_of_Sequence = [0,1]\n",
        "\n",
        "if NU_TERMS>2:\n",
        "\tfor i in range(2, NU_TERMS):\n",
        "\t\tnextElement = fibonacci_Series_of_Sequence[i-1] + fibonacci_Series_of_Sequence[i-2]\n",
        "\t\tfibonacci_Series_of_Sequence.append(nextElement)\n",
        "\n",
        "print(fibonacci_Series_of_Sequence)"
      ],
      "metadata": {
        "colab": {
          "base_uri": "https://localhost:8080/"
        },
        "id": "2pVMMF8K2Ts-",
        "outputId": "f891026f-960e-463e-c03d-b522b8e003fe"
      },
      "execution_count": 2,
      "outputs": [
        {
          "output_type": "stream",
          "name": "stdout",
          "text": [
            "ENTER THE NUMBER OF TERMS FOR FIBONACCI SEQUENCE OF SERIES : 10\n",
            "[0, 1, 1, 2, 3, 5, 8, 13, 21, 34]\n"
          ]
        }
      ]
    }
  ]
}