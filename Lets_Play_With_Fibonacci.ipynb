{
  "nbformat": 4,
  "nbformat_minor": 0,
  "metadata": {
    "colab": {
      "provenance": [],
      "authorship_tag": "ABX9TyMeq6J4bAgBwNSY1g1GCipK",
      "include_colab_link": true
    },
    "kernelspec": {
      "name": "python3",
      "display_name": "Python 3"
    },
    "language_info": {
      "name": "python"
    }
  },
  "cells": [
    {
      "cell_type": "markdown",
      "metadata": {
        "id": "view-in-github",
        "colab_type": "text"
      },
      "source": [
        "<a href=\"https://colab.research.google.com/github/SuryARavichan/EDYODA-ASSIGNMENT/blob/main/Lets_Play_With_Fibonacci.ipynb\" target=\"_parent\"><img src=\"https://colab.research.google.com/assets/colab-badge.svg\" alt=\"Open In Colab\"/></a>"
      ]
    },
    {
      "cell_type": "markdown",
      "source": [
        "\n",
        "QUESTION 1:\n",
        "\n",
        "\n",
        "Write a Python program to get the Fibonacci series between 0 to 50\n",
        "\n",
        "\n",
        "\n",
        "Note : The Fibonacci Sequence is the series of numbers :\n",
        "\n",
        "0, 1, 1, 2, 3, 5, 8, 13, 21, ....\n",
        "\n",
        "Every next number is found by adding up the two numbers before it.\n",
        "\n",
        "Expected Output : 0 1 1 2 3 5 8 13 21 34\n",
        "\n",
        "\n",
        "\n",
        "\n",
        "\n",
        "For loop or while loop must be used : 15\n",
        "\n",
        "Must Take Input from user : 5\n",
        "\n",
        "Must print Fibonacci Series : 10"
      ],
      "metadata": {
        "id": "_xQr_tU02UkT"
      }
    },
    {
      "cell_type": "code",
      "source": [
        "NU_TERMS = int(input('ENTER THE NUMBER OF TERMS FOR FIBONACCI SEQUENCE OF SERIES : '))\n",
        "ser1 = 0\n",
        "ser2 = 1\n",
        "print('Expected Output : ')\n",
        "for i in range(0,NU_TERMS):\n",
        " if(i<=1):\n",
        "   ser3 = i\n",
        " else:\n",
        "   ser3 = ser1+ser2\n",
        "   ser1 = ser2\n",
        "   ser2 = ser3\n",
        " print(ser3,end=' ')"
      ],
      "metadata": {
        "colab": {
          "base_uri": "https://localhost:8080/"
        },
        "id": "-fAnZcJh3f2V",
        "outputId": "acfa4eff-8298-4606-9a2c-a1a71160ee0a"
      },
      "execution_count": 22,
      "outputs": [
        {
          "output_type": "stream",
          "name": "stdout",
          "text": [
            "ENTER THE NUMBER OF TERMS FOR FIBONACCI SEQUENCE OF SERIES : 10\n",
            "Expected Output : \n",
            "0 1 1 2 3 5 8 13 21 34 "
          ]
        }
      ]
    }
  ]
}