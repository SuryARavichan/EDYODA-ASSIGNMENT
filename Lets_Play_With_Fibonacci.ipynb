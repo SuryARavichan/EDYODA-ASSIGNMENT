{
  "nbformat": 4,
  "nbformat_minor": 0,
  "metadata": {
    "colab": {
      "provenance": [],
      "authorship_tag": "ABX9TyN4aNTbcF+/PB6K7sSl+Wgm",
      "include_colab_link": true
    },
    "kernelspec": {
      "name": "python3",
      "display_name": "Python 3"
    },
    "language_info": {
      "name": "python"
    }
  },
  "cells": [
    {
      "cell_type": "markdown",
      "metadata": {
        "id": "view-in-github",
        "colab_type": "text"
      },
      "source": [
        "<a href=\"https://colab.research.google.com/github/SuryARavichan/EDYODA-ASSIGNMENT/blob/main/Lets_Play_With_Fibonacci.ipynb\" target=\"_parent\"><img src=\"https://colab.research.google.com/assets/colab-badge.svg\" alt=\"Open In Colab\"/></a>"
      ]
    },
    {
      "cell_type": "markdown",
      "source": [
        "\n",
        "QUESTION 1:\n",
        "\n",
        "\n",
        "Write a Python program to get the Fibonacci series between 0 to 50\n",
        "\n",
        "\n",
        "\n",
        "Note : The Fibonacci Sequence is the series of numbers :\n",
        "\n",
        "0, 1, 1, 2, 3, 5, 8, 13, 21, ....\n",
        "\n",
        "Every next number is found by adding up the two numbers before it.\n",
        "\n",
        "Expected Output : 0 1 1 2 3 5 8 13 21 34\n",
        "\n",
        "\n",
        "\n",
        "\n",
        "\n",
        "For loop or while loop must be used : 15\n",
        "\n",
        "Must Take Input from user : 5\n",
        "\n",
        "Must print Fibonacci Series : 10"
      ],
      "metadata": {
        "id": "A9Plv9w04P9Y"
      }
    },
    {
      "cell_type": "code",
      "source": [
        "nu_terms=int(input('ENTER THE NUMBER OF TERMS FOR FIBONACCI SEQUENCE OF SERIES OF NUMBERS : '))\n",
        "x1,x2=0,1\n",
        "count=0\n",
        "while count<nu_terms:\n",
        "  print(x1)\n",
        "  n_of_terms=x1+x2\n",
        "  x1=x2\n",
        "  x2=n_of_terms\n",
        "  count=count+1"
      ],
      "metadata": {
        "colab": {
          "base_uri": "https://localhost:8080/"
        },
        "id": "xifoJrSF4SLI",
        "outputId": "5269e732-8516-43bc-f597-fc28833f04cd"
      },
      "execution_count": 7,
      "outputs": [
        {
          "output_type": "stream",
          "name": "stdout",
          "text": [
            "ENTER THE NUMBER OF TERMS FOR FIBONACCI SEQUENCE OF SERIES OF NUMBERS : 10\n",
            "0\n",
            "1\n",
            "1\n",
            "2\n",
            "3\n",
            "5\n",
            "8\n",
            "13\n",
            "21\n",
            "34\n"
          ]
        }
      ]
    },
    {
      "cell_type": "code",
      "source": [],
      "metadata": {
        "id": "79_J1mLO7D8K"
      },
      "execution_count": null,
      "outputs": []
    }
  ]
}