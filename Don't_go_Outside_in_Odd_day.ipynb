{
  "nbformat": 4,
  "nbformat_minor": 0,
  "metadata": {
    "colab": {
      "provenance": [],
      "authorship_tag": "ABX9TyMYBedLzmEoviV5DAoPLexR",
      "include_colab_link": true
    },
    "kernelspec": {
      "name": "python3",
      "display_name": "Python 3"
    },
    "language_info": {
      "name": "python"
    }
  },
  "cells": [
    {
      "cell_type": "markdown",
      "metadata": {
        "id": "view-in-github",
        "colab_type": "text"
      },
      "source": [
        "<a href=\"https://colab.research.google.com/github/SuryARavichan/EDYODA-ASSIGNMENT/blob/main/Don't_go_Outside_in_Odd_day.ipynb\" target=\"_parent\"><img src=\"https://colab.research.google.com/assets/colab-badge.svg\" alt=\"Open In Colab\"/></a>"
      ]
    },
    {
      "cell_type": "markdown",
      "source": [
        "QUESTION 3:\n",
        "\n",
        "\n",
        "Write a Python program to count the number of even and odd numbers from a series of numbers.\n",
        "\n",
        "\n",
        "\n",
        "Sample numbers : numbers = (1, 2, 3, 4, 5, 6, 7, 8, 9) \n",
        "\n",
        "Expected Output :\n",
        "\n",
        "Number of even numbers : 4\n",
        "\n",
        "Number of odd numbers : 5\n",
        "\n",
        "\n",
        "\n",
        "For loop or while loop must be used : 15Marks\n",
        "\n",
        "Must Take Input from user : 5 Marks\n",
        "\n",
        "Must Print Even Numbers : 10 Marks\n",
        "\n",
        "Must Print Odd Numbers : 10 Marks"
      ],
      "metadata": {
        "id": "3DEQJdwA_m7K"
      }
    },
    {
      "cell_type": "code",
      "source": [
        "numbers=eval(input('NUMBERS =  '))\n",
        "count_even=0\n",
        "count_odd=0\n",
        "for x in numbers:\n",
        "  if not x%2:\n",
        "    count_even=count_even+1\n",
        "  else:\n",
        "    count_odd=count_odd+1\n",
        "print('Number of even numbers: ',count_even)\n",
        "print('Number of odd numbers: ',count_odd)"
      ],
      "metadata": {
        "colab": {
          "base_uri": "https://localhost:8080/"
        },
        "id": "IiB-0UKm_qg_",
        "outputId": "79c65ce7-fc00-435d-b985-bd06a311e97b"
      },
      "execution_count": 4,
      "outputs": [
        {
          "output_type": "stream",
          "name": "stdout",
          "text": [
            "NUMBERS =  (1,2,3,4,5,6,7,8,9)\n",
            "Number of even numbers:  4\n",
            "Number of odd numbers:  5\n"
          ]
        }
      ]
    }
  ]
}